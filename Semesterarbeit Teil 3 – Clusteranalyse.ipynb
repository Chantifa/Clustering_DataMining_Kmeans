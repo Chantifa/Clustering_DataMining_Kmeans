{
  "cells": [
    {
      "cell_type": "markdown",
      "metadata": {
        "id": "view-in-github",
        "colab_type": "text"
      },
      "source": [
        "<a href=\"https://colab.research.google.com/github/Chantifa/deterministcAutomation/blob/main/Table_export_RAMSI.ipynb\" target=\"_parent\"><img src=\"https://colab.research.google.com/assets/colab-badge.svg\" alt=\"Open In Colab\"/></a>"
      ]
    },
 "cells": [
  {
   "cell_type": "markdown",
   "id": "3761fb61",
   "metadata": {},
   "source": [
    "# Semesterarbeit Teil 3 – Clusteranalyse"
   ]
  },
  {
   "cell_type": "markdown",
   "id": "e41af23c",
   "metadata": {},
   "source": [
    "## Einführung\n",
    "Im Rahmen der Lernleistung 3 des Moduls soll ausgehend von einem ausgewählten englischen Wikipedia-Artikels eine Datenbasis an Artikeln und Links heruntergeladen werden. Dabei solle die Breitensuche verwendet werden und alle Spezialseiten der Wikipedia ignoriert werden.\n",
    "Die Anzahl der heruntergeladenen Artikel sollte nicht mehr als 50 betragen.\n",
    "Um das Ganze zu clusterten und zu analysieren, muss k-Means  Clustering Algorithmus auf der Datenbasis verwendet werden. \n"
   ]
  },
  {
   "cell_type": "markdown",
   "id": "a97d29c8",
   "metadata": {},
   "source": [
    "## Theorie\n",
    "### Unüberwachten Lernen mit Clustering\n",
    "Was ist eigentlich genau unüberwachtes Lernen? Beim unüberwachten Lernen haben wir es mit nicht mit gekennzeichneten Daten zu tun, die möglichen Antworten/Ergebnisse sind uns gänzlich unbekannt. Folglich können wir den Algorithmus nicht trainieren, indem wir ihm die Ergebnisse, auf die er kommen soll, im Rahmen einer Trainingsphase vorgeben (überwachtes Lernen), sondern wir nutzen Algorithmen, die die Struktur der Daten erkunden und für uns Menschen sinnvolle Informationen aus Ihnen bilden.\n",
    "![Unüberwachtes Lernen - Prozess-Modell](ueberwachtes-maschinelles-lernen-prozess-modell.png)\n",
    "Unüberwachte Methoden des maschinellen Lernens werden für das Data Mining eingesetzt, also das Erkennen von Inhalten in Daten anhand von sichtbar werdenden Strukturen. Die Methoden müssen nicht zwangsläufig mit Datenvisualisierung arbeiten, aber oft tun sie das, denn es sind die visuellen Strukturen, die es unserem menschlichen Gehirn ermöglichen, die Daten in einen Kontext zu setzen. Mir sind zwei Kategorien des unüberwachten Lernens bekannt, zum einen das Clustering, das im Grunde ein unüberwachtes Klassifikationsverfahren ist, und zum anderen die Dimensionalitätsreduktion PCA (Hauptkomponentenanalyse). \n",
    "[4] In dieser Arbeit werde ich mich aber mit Clustering beschäftigen.\n",
    "\n",
    "### Typen von Clustering\n",
    "Es gibt 4 Typen von Clustering:\n",
    "* Zentroiden-Clustering (K-means)\n",
    "* Dichte-Clustering\n",
    "* Verteilungs-Clustering\n",
    "* Konnektivitäts-Clustering (Hierachical Clustering)\n",
    "\n",
    "### K-means-Algorithmus\n",
    "\n",
    "Der erste Schritt bei der Verwendung von k-means Clustering ist die Angabe der Anzahl von Clustern (k), die in der endgültigen Lösung erzeugt werden. Der Algorithmus beginnt mit der zufälligen Auswahl von k Objekten aus dem Datensatz, die als Anfangszentren für die Cluster dienen. Die ausgewählten Objekte werden auch als Clustermittelpunkte oder Zentroide bezeichnet. Als Nächstes wird jedes der verbleibenden Objekte dem nächstgelegenen Zentroid zugewiesen, wobei \"nächstgelegen\" über den euklidischen Abstand zwischen dem Objekt und dem Cluster-Mittelwert definiert ist. Dieser Schritt wird \"Clusterzuweisungsschritt\" genannt. Nach dem Zuweisungsschritt berechnet der Algorithmus den neuen Mittelwert eines jeden Clusters. Dieser Schritt wird mit dem Begriff Cluster-\"Zentrenaktualisierung\" bezeichnet. Nachdem nun die Zentren neu berechnet wurden, wird jede Beobachtung erneut daraufhin überprüft, ob sie möglicherweise näher an einem anderen Cluster liegt. Alle Objekte werden mit den aktualisierten Cluster-mittel neu zugeordnet. Die Schritte der Clusterzuordnung und der Zentroid-Aktualisierung werden iterativ wiederholt, bis sich die Clusterzuordnungen nicht mehr ändern (d. h. bis Konvergenz erreicht ist). Das heisst, die in der aktuellen Iteration gebildeten Cluster sind die gleichen wie die in der vorherigen Iteration erhaltenen. [5]\n",
    "\n",
    "Die Grundidee des k-means Clustering besteht darin, Cluster so zu definieren, dass die gesamte Intra-Cluster-Variation (bekannt als Gesamtvariation innerhalb von Clustern) minimiert wird. Es sind mehrere k-means-Algorithmen verfügbar. Der Standardalgorithmus ist der Hartigan-Wong-Algorithmus (1979), der die gesamte Variation innerhalb von Clustern als die Summe der quadrierten euklidischen Abstände zwischen Elementen und dem entsprechenden Zentroid definiert:\n",
    "* $W(C_k) = \\sum_{x_i \\in C_k}(x_i - \\mu_k)^2 $\n",
    "* $x_i$ ein Datenpunkt ist, der zum Cluster gehört $C_k$\n",
    "* $\\mu_k$ ist der Mittelwert der dem Cluster zugeordneten Punkte $C_k$\n",
    "\n",
    "Jede Beobachtung $x_i$ wird einem gegebenen Cluster so zugeordnet, dass die Summe der Quadrate (SS) des Abstands der Beobachtung zu ihren zugeordneten Clusterzentren $\\mu_k$ minimiert wird.\n",
    "\n",
    "Die gesamte Variation wird wie folgt innerhalb von Clustern definiert:\n",
    "\n",
    "Total der Quandratsummen = $\\sum^k_{k=1}W(C_k)$ = $\\sum^k_{k=1}$$\\sum_{x_i \\in C_k}(x_i - \\mu_k)^2$\n",
    "\n",
    "Total der Quadratsummen innerhalb von Clustern misst die Kompaktheit des Clusters und soll so klein wie möglich sein.\n",
    "\n",
    "Der K-means-Algorithmus lässt sich wie folgt zusammenfassen:\n",
    "\n",
    "1. Anzahl der zu erstellenden Cluster (K) angeben\n",
    "2. Auswählen eines zufällig k Objektes aus dem Datensatz als anfängliche Clusterzentren oder Mittelwerte\n",
    "3. Weist jede Beobachtung ihrem nächstgelegenen Zentroid zu, basierend auf dem euklidischen Abstand zwischen dem Objekt und dem Zentroid\n",
    "4. Aktualisieren für jeden der k Cluster den Clusterschwerpunkt, indem die neuen Mittelwerte aller Datenpunkte im Cluster berechnen. Der Zentroid eines K-ten Clusters ist ein Vektor der Länge p, der die Mittelwerte aller Variablen für die Beobachtungen im k-ten Cluster enthält; p ist die Anzahl der Variablen.\n",
    "5. Iterativ minimieren der Summe innerhalb der Quadratsumme. Das heisst, die Schritte 3 und 4 werden iteriert, bis sich die Clusterzuordnungen nicht mehr ändern oder die maximale Anzahl der Iterationen erreicht ist."
   ]
  },
  {
   "cell_type": "markdown",
   "id": "45f355f6",
   "metadata": {},
   "source": [
    "#### Clustering-Distanzmasse\n",
    "Die Klassifizierung von Beobachtungen in Clusters erfordert einige Methoden zur Berechnung des Abstands oder der (Un-)Ähnlichkeit\n",
    "zwischen jedem Paar von Beobachtungen.\n",
    "Das Ergebnis dieser Berechnung wird als Dissimilaritäts- oder Distanzmatrix bezeichnet.\n",
    "Es gibt viele Methoden zur Berechnung dieser Abstandsinformation.\n",
    "Die Wahl der Abstandsmasse ist ein kritischer Schritt bei der Clusterbildung.\n",
    "Sie definiert, wie die Ähnlichkeit zweier Elemente (x, y) berechnet wird, und beeinflusst die Form der Cluster.\n",
    "Die klassischen Methoden für Distanzmasse sind Euklidische und Manhattan-Distanzen, die wie folgt, definiert sind:\n",
    "\n",
    "***Euklidische Distanz:***\n",
    "\n",
    "$ d_{euc}(x,y) = \\sqrt{\\sum^n_{i=1}(x_i - y_i)^2}$\n",
    "\n",
    "***Manhattan Distanz***\n",
    "\n",
    "$d_{man}(x,y) = \\sum^n_{i=1}|(x_i - y_i)| $"
   ]
  },
  {
   "cell_type": "markdown",
   "id": "e282bf75",
   "metadata": {},
   "source": [
    "Nun möchten wir anhand der Untersuchung diesen K-Means Algoithmus answenden und damit meine Clusters berechnen. Doch wie kann ich diesen Algorithmus anwenden? Gibt es hier Libraries, welche ich verwenden kann?"
   ]
  },
  {
   "cell_type": "code",
   "execution_count": 68,
   "id": "8e965bc9",
   "metadata": {},
   "outputs": [],
   "source": [
    "import requests\n",
    "from bs4 import BeautifulSoup # parsing HTML\n",
    "import re\n",
    "from sklearn.feature_extraction.text import TfidfVectorizer\n",
    "from sklearn.cluster import KMeans\n",
    "import numpy as np\n",
    "import pandas as pd\n",
    "from sklearn.cluster import KMeans\n",
    "import matplotlib.pyplot as plt\n",
    "from scipy.spatial.distance import cdist \n",
    "from sklearn.preprocessing import StandardScaler\n",
    "from sklearn.decomposition import PCA\n",
    "import sys\n",
    "import os\n",
    "from sklearn import preprocessing\n",
    "from scipy.sparse import csr_matrix\n",
    "\n",
    "%matplotlib inline"
   ]
  },
  {
   "cell_type": "code",
   "execution_count": 69,
   "id": "895a53f2",
   "metadata": {},
   "outputs": [],
   "source": [
    "url = 'https://en.wikipedia.org/wiki/Zurich_Cantonal_Bank'\n",
    "    \n",
    "index = requests.get(url).text\n",
    "soup_index = BeautifulSoup(index, 'html.parser')\n",
    "# Find the links on the page\n",
    "dumps = [a['href'] for a in soup_index.find_all('a') if a.has_attr('href')]"
   ]
  },
  {
   "cell_type": "code",
   "execution_count": 70,
   "id": "417aa0ca",
   "metadata": {},
   "outputs": [
    {
     "name": "stdout",
     "output_type": "stream",
     "text": [
      "['https://de.wikipedia.org/wiki/Z%C3%BCrcher_Kantonalbank', 'https://translate.google.com/translate?&u=https%3A%2F%2Fde.wikipedia.org%2Fwiki%2FZ%C3%BCrcher_Kantonalbank&sl=de&tl=en&prev=_t&hl=en', '/wiki/Template:Expand_German#Topics_and_categorization', '/wiki/Category:Articles_needing_translation_from_German_Wikipedia', '/wiki/Wikipedia:Copying_within_Wikipedia']\n",
      "==========================================\n",
      "No links:  252\n",
      "==========================================\n",
      "After removed duplicates:  163\n"
     ]
    }
   ],
   "source": [
    "r = re.compile('.*wiki.*')\n",
    "data = list(filter(r.match, dumps)) # filter only wikipedia links\n",
    "df = list(dict.fromkeys(data)) # Remove duplicates\n",
    "print(df[:5])\n",
    "print('==========================================')\n",
    "print('No links: ', len(dumps))\n",
    "print('==========================================')\n",
    "print('After removed duplicates: ', len(df))"
   ]
  },
  {
   "cell_type": "markdown",
   "id": "8d63377a",
   "metadata": {},
   "source": [
    "Hier sollten nur die ersten 50 Links verwendet werden."
   ]
  },
  {
   "attachments": {
    "image.png": {
     "image/png": "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"
    }
   },
   "cell_type": "markdown",
   "id": "d4e8f781",
   "metadata": {},
   "source": [
    "Da k-means nur mit numerischen Werten umgehen kann, wird der TF-IDF Vektorisierer verwendet. \n",
    "\n",
    "![image.png](attachment:image.png)\n",
    "\n",
    "Inverse Dokumenthäufigkeit. |D| ist die Gesamtzahl aller Dokumente, t ist der Begriff, und DF(t)\n",
    "ist die Anzahl aller Dokumente, die den Begriff enthalten. Je niedriger die Zahl ist, desto unbedeutender ist der Begriff,\n",
    "und je höher, desto mehr sollte ein Begriff in einer Abfrage für die Relevanzbewertung zählen."
   ]
  },
  {
   "cell_type": "code",
   "execution_count": 88,
   "id": "245628e5",
   "metadata": {},
   "outputs": [],
   "source": [
    "vectorizer = TfidfVectorizer(stop_words='english')\n",
    "X = vectorizer.fit_transform(df[:50])"
   ]
  },
  {
   "cell_type": "code",
   "execution_count": 89,
   "id": "348b269a",
   "metadata": {},
   "outputs": [],
   "source": [
    "kmeans = KMeans(n_clusters=7, random_state=0).fit(X)"
   ]
  },
  {
   "cell_type": "code",
   "execution_count": 90,
   "id": "892b8bb5",
   "metadata": {},
   "outputs": [],
   "source": [
    "np.set_printoptions(threshold=sys.maxsize)\n",
    "labels2=kmeans.labels_"
   ]
  },
  {
   "cell_type": "code",
   "execution_count": 91,
   "id": "8201d3d1",
   "metadata": {},
   "outputs": [],
   "source": [
    "n_cluster = range(1, 20)"
   ]
  },
  {
   "cell_type": "code",
   "execution_count": 92,
   "id": "320ce803",
   "metadata": {},
   "outputs": [
    {
     "name": "stdout",
     "output_type": "stream",
     "text": [
      "Inertias:  [46.53487170522692, 44.92674555336672, 43.21717529864838, 42.22731616723356, 41.32508975885605, 39.72249850999503, 38.82109919487694, 37.87578543613544, 36.88665339678578, 35.94137169238268, 34.996089987979595, 34.0508082835765, 33.105526579173414, 32.160244874770335, 31.214963170367245, 30.26968146596416, 29.324399761561075, 28.379118057157992, 27.433836352754902]\n"
     ]
    }
   ],
   "source": [
    "inertias = [] \n",
    "\n",
    "K = range(1,20) \n",
    "\n",
    "  \n",
    "for k in K: \n",
    "    #Aufbau und Anpassung des Modells nd fitting the model \n",
    "    kmeanModel = KMeans(n_clusters=k).fit(X) \n",
    "    inertias.append(kmeanModel.inertia_)\n",
    "\n",
    "print (\"Inertias: \",inertias)"
   ]
  },
  {
   "cell_type": "code",
   "execution_count": 93,
   "id": "8e9c45c6",
   "metadata": {},
   "outputs": [
    {
     "data": {
      "image/png": "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\n",
      "text/plain": [
       "<Figure size 640x480 with 1 Axes>"
      ]
     },
     "metadata": {},
     "output_type": "display_data"
    }
   ],
   "source": [
    "plt.plot(K, inertias, 'bx-') \n",
    "plt.xlabel('Anzahl Clusters') \n",
    "plt.ylabel('Inertia') \n",
    "plt.title('Die Elbow Method mit Inertia') \n",
    "plt.show() "
   ]
  },
  {
   "cell_type": "markdown",
   "id": "88c0bccc",
   "metadata": {},
   "source": [
    "Hier erkennt man gut, dass man somit zwischen 4 und 3 Clusters gebraucht. Ab dem 4 ändert nichts mehr gross.\n",
    "Nun zur Hauptkomponentenanalyse, welche ein mathematisches Verfahren ist und zur Dimensionalitätsreduktion führt.\n",
    "Das Ziel ist es, die Anzahl der Merkmale zu reduzieren, während der Grossteil der ursprünglichen Informationen erhalten bleibt.\n",
    "Nun werde ich alle Daten mittels PCA zur Visualisierung der Cluster transformieren."
   ]
  },
  {
   "cell_type": "code",
   "execution_count": 76,
   "id": "b31207cd",
   "metadata": {},
   "outputs": [
    {
     "name": "stdout",
     "output_type": "stream",
     "text": [
      "Recommended number of clusters:  6\n"
     ]
    },
    {
     "data": {
      "text/plain": [
       "Text(0, 0.5, 'n')"
      ]
     },
     "execution_count": 76,
     "metadata": {},
     "output_type": "execute_result"
    },
    {
     "data": {
      "image/png": "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\n",
      "text/plain": [
       "<Figure size 800x400 with 1 Axes>"
      ]
     },
     "metadata": {},
     "output_type": "display_data"
    }
   ],
   "source": [
    "kmeans = [KMeans(n_clusters=i).fit(X) for i in n_cluster]\n",
    "\n",
    "scores = [kmeans[i].score(X) for i in range(len(kmeans))]\n",
    "scores = np.array(scores)\n",
    "dif_scores = scores / scores[0]\n",
    "dif_scores = np.diff(dif_scores)\n",
    "n_clusters = np.argwhere(dif_scores < np.quantile(dif_scores, 0.9))[-1][0]\n",
    "print(\"Recommended number of clusters: \", n_clusters)\n",
    "fig = plt.figure(figsize=(8, 4))\n",
    "plt.plot(scores)\n",
    "plt.xticks(n_cluster)\n",
    "plt.xlabel(\"Number of Clusters\")\n",
    "plt.ylabel(\"n\")"
   ]
  },
  {
   "cell_type": "code",
   "execution_count": 77,
   "id": "74567678",
   "metadata": {},
   "outputs": [
    {
     "data": {
      "text/html": [
       "<style>#sk-container-id-4 {color: black;background-color: white;}#sk-container-id-4 pre{padding: 0;}#sk-container-id-4 div.sk-toggleable {background-color: white;}#sk-container-id-4 label.sk-toggleable__label {cursor: pointer;display: block;width: 100%;margin-bottom: 0;padding: 0.3em;box-sizing: border-box;text-align: center;}#sk-container-id-4 label.sk-toggleable__label-arrow:before {content: \"▸\";float: left;margin-right: 0.25em;color: #696969;}#sk-container-id-4 label.sk-toggleable__label-arrow:hover:before {color: black;}#sk-container-id-4 div.sk-estimator:hover label.sk-toggleable__label-arrow:before {color: black;}#sk-container-id-4 div.sk-toggleable__content {max-height: 0;max-width: 0;overflow: hidden;text-align: left;background-color: #f0f8ff;}#sk-container-id-4 div.sk-toggleable__content pre {margin: 0.2em;color: black;border-radius: 0.25em;background-color: #f0f8ff;}#sk-container-id-4 input.sk-toggleable__control:checked~div.sk-toggleable__content {max-height: 200px;max-width: 100%;overflow: auto;}#sk-container-id-4 input.sk-toggleable__control:checked~label.sk-toggleable__label-arrow:before {content: \"▾\";}#sk-container-id-4 div.sk-estimator input.sk-toggleable__control:checked~label.sk-toggleable__label {background-color: #d4ebff;}#sk-container-id-4 div.sk-label input.sk-toggleable__control:checked~label.sk-toggleable__label {background-color: #d4ebff;}#sk-container-id-4 input.sk-hidden--visually {border: 0;clip: rect(1px 1px 1px 1px);clip: rect(1px, 1px, 1px, 1px);height: 1px;margin: -1px;overflow: hidden;padding: 0;position: absolute;width: 1px;}#sk-container-id-4 div.sk-estimator {font-family: monospace;background-color: #f0f8ff;border: 1px dotted black;border-radius: 0.25em;box-sizing: border-box;margin-bottom: 0.5em;}#sk-container-id-4 div.sk-estimator:hover {background-color: #d4ebff;}#sk-container-id-4 div.sk-parallel-item::after {content: \"\";width: 100%;border-bottom: 1px solid gray;flex-grow: 1;}#sk-container-id-4 div.sk-label:hover label.sk-toggleable__label {background-color: #d4ebff;}#sk-container-id-4 div.sk-serial::before {content: \"\";position: absolute;border-left: 1px solid gray;box-sizing: border-box;top: 0;bottom: 0;left: 50%;z-index: 0;}#sk-container-id-4 div.sk-serial {display: flex;flex-direction: column;align-items: center;background-color: white;padding-right: 0.2em;padding-left: 0.2em;position: relative;}#sk-container-id-4 div.sk-item {position: relative;z-index: 1;}#sk-container-id-4 div.sk-parallel {display: flex;align-items: stretch;justify-content: center;background-color: white;position: relative;}#sk-container-id-4 div.sk-item::before, #sk-container-id-4 div.sk-parallel-item::before {content: \"\";position: absolute;border-left: 1px solid gray;box-sizing: border-box;top: 0;bottom: 0;left: 50%;z-index: -1;}#sk-container-id-4 div.sk-parallel-item {display: flex;flex-direction: column;z-index: 1;position: relative;background-color: white;}#sk-container-id-4 div.sk-parallel-item:first-child::after {align-self: flex-end;width: 50%;}#sk-container-id-4 div.sk-parallel-item:last-child::after {align-self: flex-start;width: 50%;}#sk-container-id-4 div.sk-parallel-item:only-child::after {width: 0;}#sk-container-id-4 div.sk-dashed-wrapped {border: 1px dashed gray;margin: 0 0.4em 0.5em 0.4em;box-sizing: border-box;padding-bottom: 0.4em;background-color: white;}#sk-container-id-4 div.sk-label label {font-family: monospace;font-weight: bold;display: inline-block;line-height: 1.2em;}#sk-container-id-4 div.sk-label-container {text-align: center;}#sk-container-id-4 div.sk-container {/* jupyter's `normalize.less` sets `[hidden] { display: none; }` but bootstrap.min.css set `[hidden] { display: none !important; }` so we also need the `!important` here to be able to override the default hidden behavior on the sphinx rendered scikit-learn.org. See: https://github.com/scikit-learn/scikit-learn/issues/21755 */display: inline-block !important;position: relative;}#sk-container-id-4 div.sk-text-repr-fallback {display: none;}</style><div id=\"sk-container-id-4\" class=\"sk-top-container\"><div class=\"sk-text-repr-fallback\"><pre>KMeans(max_iter=100, n_clusters=17, n_init=1)</pre><b>In a Jupyter environment, please rerun this cell to show the HTML representation or trust the notebook. <br />On GitHub, the HTML representation is unable to render, please try loading this page with nbviewer.org.</b></div><div class=\"sk-container\" hidden><div class=\"sk-item\"><div class=\"sk-estimator sk-toggleable\"><input class=\"sk-toggleable__control sk-hidden--visually\" id=\"sk-estimator-id-4\" type=\"checkbox\" checked><label for=\"sk-estimator-id-4\" class=\"sk-toggleable__label sk-toggleable__label-arrow\">KMeans</label><div class=\"sk-toggleable__content\"><pre>KMeans(max_iter=100, n_clusters=17, n_init=1)</pre></div></div></div></div></div>"
      ],
      "text/plain": [
       "KMeans(max_iter=100, n_clusters=17, n_init=1)"
      ]
     },
     "execution_count": 77,
     "metadata": {},
     "output_type": "execute_result"
    }
   ],
   "source": [
    "true_k = 17\n",
    "model = KMeans(n_clusters=true_k, init='k-means++', max_iter=100, n_init=1)\n",
    "model.fit(X)"
   ]
  },
  {
   "cell_type": "code",
   "execution_count": 78,
   "id": "ee9acc07",
   "metadata": {},
   "outputs": [],
   "source": [
    "order_centroids = model.cluster_centers_.argsort()[:, ::-1]\n",
    "terms = vectorizer.get_feature_names()"
   ]
  },
  {
   "cell_type": "code",
   "execution_count": 79,
   "id": "96c441b1",
   "metadata": {},
   "outputs": [
    {
     "name": "stdout",
     "output_type": "stream",
     "text": [
      "=======\n",
      "Cluster 0:\n",
      "=======\n",
      "Cluster 1:\n",
      "=======\n",
      "Cluster 2:\n",
      "=======\n",
      "Cluster 3:\n",
      "=======\n",
      "Cluster 4:\n",
      "=======\n",
      "Cluster 5:\n",
      "=======\n",
      "Cluster 6:\n",
      "=======\n",
      "Cluster 7:\n",
      "=======\n",
      "Cluster 8:\n",
      "=======\n",
      "Cluster 9:\n",
      "=======\n",
      "Cluster 10:\n",
      "=======\n",
      "Cluster 11:\n",
      "=======\n",
      "Cluster 12:\n",
      "=======\n",
      "Cluster 13:\n",
      "=======\n",
      "Cluster 14:\n",
      "=======\n",
      "Cluster 15:\n",
      "=======\n",
      "Cluster 16:\n"
     ]
    }
   ],
   "source": [
    "for i in range(true_k):\n",
    "    print('=======')\n",
    "    print('Cluster %d:' % i)"
   ]
  },
  {
   "cell_type": "code",
   "execution_count": 80,
   "id": "2c6fcc99",
   "metadata": {},
   "outputs": [
    {
     "name": "stdout",
     "output_type": "stream",
     "text": [
      "switzerland\n",
      "raiffeisen_\n",
      "wiki\n",
      "copying_within_wikipedia\n",
      "canton_of_z\n",
      "canton_of_zurich\n",
      "cantonal_bank\n",
      "cantonal_council_of_z\n",
      "category\n",
      "com\n"
     ]
    }
   ],
   "source": [
    "for ind in order_centroids[i, :10]:\n",
    "    print('%s' % terms[ind])"
   ]
  },
  {
   "cell_type": "code",
   "execution_count": 81,
   "id": "ad837552",
   "metadata": {},
   "outputs": [
    {
     "name": "stdout",
     "output_type": "stream",
     "text": [
      "[ 4  1  1  1 16  1  1  1  1  1  1  1  1  1  3  1  1  1  1  1  6  1  6  1\n",
      "  1  1  1  6  1  1  1  1  1  1 10  1  3  1  1  1 14  1  1  1  1  1 16  1\n",
      "  1  1]\n"
     ]
    }
   ],
   "source": [
    "base_url = 'https://en.wikipedia.org/wiki/Cantonal_bank'\n",
    "index = requests.get(base_url).text\n",
    "soup_index = BeautifulSoup(index, 'html.parser')\n",
    "# Find the links on the page\n",
    "dumps = [a['href'] for a in soup_index.find_all('a') if\n",
    "a.has_attr('href')]\n",
    "r = re.compile('.*wiki.*')\n",
    "data = list(filter(r.match, dumps)) # filter only wikipedia links\n",
    "df = list(dict.fromkeys(data)) # Remove duplicates\n",
    "dfr_new = df[:50]\n",
    "X = vectorizer.transform(dfr_new)\n",
    "predicted = model.predict(X)\n",
    "print(predicted)"
   ]
  },
  {
   "cell_type": "markdown",
   "id": "694e113e",
   "metadata": {},
   "source": [
    "## Fazit\n",
    "\n"
   ]
  },
  {
   "cell_type": "markdown",
   "id": "330768cb",
   "metadata": {},
   "source": [
    "## Quellen\n",
    "* [1] Russell, M. and Klassen, M., 2018. Mining The Social Web, 3Rd Edition. 3rd ed. O'REILLY.\n",
    "* [2] Dr. Tim vor der Brück, Präsenation \"Bestimmung Anzahl optimaler Cluster in K-Means\", November 2022, FFHS Information Technology\n",
    "* [3] scikit-learn, https://scikit-learn.org/stable/, [online] verfügbar bei: <https://scikit-learn.org> [Zugriff 30.10.2022]\n",
    "* [4] Blog Data Science, https://data-science-blog.com/, [online] verfügbar bei: <https://data-science-blog.com/> [Zugriff 20.12.2022]\n",
    "* [5] UC Business Analytics R Programming Guide, https://uc-r.github.io/kmeans_clustering, [online] verfügbar bei: <https://uc-r.github.io/kmeans_clustering> [Zugriff: 20.12.2022]\n",
    "* [6] Towards Data Science k-means clustering, https://towardsdatascience.com/k-means-clustering-with-scikit-learn-6b47a369a83c, [online] verfügar bei: <https://towardsdatascience.com> [Zugriff 22.12.2022]\n",
    "* [7] Our world in data, https://ourworldindata.org/coronavirus-source-data, [online] verfügbar bei: <https://ourworldindata.org> [Zugriff: 26.12.2022]\n",
    "* [8] Data Science Central, https://www.datasciencecentral.com/profiles/blogs/fun-with-maps-part-1, [online] verfügbar bei: <https://www.datasciencecentral.com> [Zugriff:28.12.2022]\n",
    "* [9] folium, https://pypi.org/project/folium , [online] verfügbar bei: <https://pypi.org> [Zugriff: 28.12.2022]\n",
    "* [10] Towards Data Science Geocode, https://towardsdatascience.com/geocode-with-python-161ec1e62b89, [online] verfügbar bei: <https://towardsdatascience.com> [Zugriff: 18.12.2022]"
   ]
  },
  {
   "cell_type": "code",
   "execution_count": null,
   "id": "e034b3e0",
   "metadata": {},
   "outputs": [],
   "source": [
    "def sframe_to_scipy(x, column_name):\n",
    "    '''\n",
    "    Convert a dictionary column of an SFrame into a sparse matrix format where\n",
    "    each (row_id, column_id, value) triple corresponds to the value of\n",
    "    x[row_id][column_id], where column_id is a key in the dictionary.\n",
    "       \n",
    "    Example\n",
    "    >>> sparse_matrix, map_key_to_index = sframe_to_scipy(sframe, column_name)\n",
    "    '''\n",
    "    assert x[column_name].dtype() == dict, \\\n",
    "        'The chosen column must be dict type, representing sparse data.'\n",
    "        \n",
    "    # Create triples of (row_id, feature_id, count).\n",
    "    # 1. Add a row number.\n",
    "    x = x.add_row_number()\n",
    "    # 2. Stack will transform x to have a row for each unique (row, key) pair.\n",
    "    x = x.stack(column_name, ['feature', 'value'])\n",
    "\n",
    "    # Map words into integers using a OneHotEncoder feature transformation.\n",
    "    f = graphlab.feature_engineering.OneHotEncoder(features=['feature'])\n",
    "    # 1. Fit the transformer using the above data.\n",
    "    f.fit(x)\n",
    "    # 2. The transform takes 'feature' column and adds a new column 'feature_encoding'.\n",
    "    x = f.transform(x)\n",
    "    # 3. Get the feature mapping.\n",
    "    mapping = f['feature_encoding']\n",
    "    # 4. Get the feature id to use for each key.\n",
    "    x['feature_id'] = x['encoded_features'].dict_keys().apply(lambda x: x[0])\n",
    "\n",
    "    # Create numpy arrays that contain the data for the sparse matrix.\n",
    "    i = np.array(x['id'])\n",
    "    j = np.array(x['feature_id'])\n",
    "    v = np.array(x['value'])\n",
    "    width = x['id'].max() + 1\n",
    "    height = x['feature_id'].max() + 1\n",
    "\n",
    "    # Create a sparse matrix.\n",
    "    mat = csr_matrix((v, (i, j)), shape=(width, height))\n",
    "\n",
    "    return mat, mapping"
   ]
  },
  {
   "cell_type": "code",
   "execution_count": null,
   "id": "b966c8ae",
   "metadata": {},
   "outputs": [],
   "source": [
    "# The conversion will take about a minute or two.\n",
    "tf_idf, map_index_to_word = sframe_to_scipy(wiki, 'tf_idf')"
   ]
  },
  {
   "cell_type": "code",
   "execution_count": null,
   "id": "b05832a0",
   "metadata": {},
   "outputs": [],
   "source": [
    "from sklearn.preprocessing import normalize \n",
    "tf_idf = normalize(tf_idf)"
   ]
  },
  {
   "cell_type": "code",
   "execution_count": null,
   "id": "c412d25d",
   "metadata": {},
   "outputs": [],
   "source": [
    "sklearn_pca = PCA(n_components = 2) # Using PCA to remove cols which has less co-relation\n",
    "Y_sklearn = sklearn_pca.fit_transform(X_std) #fit_transform() is used to scale training data to learn parameters such as \n",
    "# mean & variance of the features of training set and then these parameters are used to scale our testing data.\n",
    "# As concluded using Elbow Method.\n",
    "n_clusters = 2\n",
    "kmeans = KMeans(n_clusters= n_clusters, max_iter=400, algorithm = 'auto')# Partition 'n' no. of observations into 'k' no. of clusters. \n",
    "fitted = kmeans.fit(Y_sklearn) # Fitting k-means model  to feature array\n",
    "prediction = kmeans.predict(Y_sklearn) # predicting clusters class '0' or '1' corresponding to 'n' no. of observations"
   ]
  },
  {
   "cell_type": "code",
   "execution_count": null,
   "id": "c65e32a6",
   "metadata": {},
   "outputs": [],
   "source": []
  }
 ],
 "metadata": {
  "kernelspec": {
   "display_name": "Python 3 (ipykernel)",
   "language": "python",
   "name": "python3"
  },
  "language_info": {
   "codemirror_mode": {
    "name": "ipython",
    "version": 3
   },
   "file_extension": ".py",
   "mimetype": "text/x-python",
   "name": "python",
   "nbconvert_exporter": "python",
   "pygments_lexer": "ipython3",
   "version": "3.8.3"
  }
 },
 "nbformat": 4,
 "nbformat_minor": 5
}
