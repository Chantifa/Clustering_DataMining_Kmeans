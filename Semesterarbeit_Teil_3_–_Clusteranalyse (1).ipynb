{
  "cells": [
    {
      "cell_type": "markdown",
      "metadata": {
        "id": "view-in-github",
        "colab_type": "text"
      },
      "source": [
        "<a href=\"https://colab.research.google.com/github/Chantifa/Clustering_DataMining_Kmeans/blob/main/Semesterarbeit Teil 3 – Semesterarbeit_Teil_3_–_Clusteranalyse (1).ipynb\" target=\"_parent\"><img src=\"https://colab.research.google.com/assets/colab-badge.svg\" alt=\"Open In Colab\"/></a>"
      ]
    },
    {
      "cell_type": "markdown",
      "id": "e41af23c",
      "metadata": {
        "id": "e41af23c"
      },
      "source": [
        "## Einführung\n",
        "Im Rahmen der Lernleistung 3 des Moduls soll ausgehend von einem ausgewählten englischen Wikipedia-Artikels eine Datenbasis an Artikeln und Links heruntergeladen werden. Dabei solle die Breitensuche verwendet werden und alle Spezialseiten der Wikipedia ignoriert werden.\n",
        "Die Anzahl der heruntergeladenen Artikel sollte nicht mehr als 50 betragen.\n",
        "Um das Ganze zu clusterten und zu analysieren, muss k-Means  Clustering Algorithmus auf der Datenbasis verwendet werden. \n"
      ]
    },
    {
      "cell_type": "markdown",
      "id": "a97d29c8",
      "metadata": {
        "id": "a97d29c8"
      },
      "source": [
        "## Theorie\n",
        "### Unüberwachten Lernen mit Clustering\n",
        "Was ist eigentlich genau unüberwachtes Lernen? Beim unüberwachten Lernen haben wir es mit nicht mit gekennzeichneten Daten zu tun, die möglichen Antworten/Ergebnisse sind uns gänzlich unbekannt. Folglich können wir den Algorithmus nicht trainieren, indem wir ihm die Ergebnisse, auf die er kommen soll, im Rahmen einer Trainingsphase vorgeben (überwachtes Lernen), sondern wir nutzen Algorithmen, die die Struktur der Daten erkunden und für uns Menschen sinnvolle Informationen aus Ihnen bilden.\n",
        "Unüberwachte Methoden des maschinellen Lernens werden für das Data Mining eingesetzt, also das Erkennen von Inhalten in Daten anhand von sichtbar werdenden Strukturen. Die Methoden müssen nicht zwangsläufig mit Datenvisualisierung arbeiten, aber oft tun sie das, denn es sind die visuellen Strukturen, die es unserem menschlichen Gehirn ermöglichen, die Daten in einen Kontext zu setzen. Mir sind zwei Kategorien des unüberwachten Lernens bekannt, zum einen das Clustering, das im Grunde ein unüberwachtes Klassifikationsverfahren ist, und zum anderen die Dimensionalitätsreduktion PCA (Hauptkomponentenanalyse). \n",
        "[4] In dieser Arbeit werde ich mich aber mit Clustering beschäftigen.\n",
        "\n",
        "### Typen von Clustering\n",
        "Es gibt 4 Typen von Clustering:\n",
        "* Zentroiden-Clustering (K-means)\n",
        "* Dichte-Clustering\n",
        "* Verteilungs-Clustering\n",
        "* Konnektivitäts-Clustering (Hierachical Clustering)\n",
        "\n",
        "### K-means-Algorithmus\n",
        "\n",
        "Der erste Schritt bei der Verwendung von k-means Clustering ist die Angabe der Anzahl von Clustern (k), die in der endgültigen Lösung erzeugt werden. Der Algorithmus beginnt mit der zufälligen Auswahl von k Objekten aus dem Datensatz, die als Anfangszentren für die Cluster dienen. Die ausgewählten Objekte werden auch als Clustermittelpunkte oder Zentroide bezeichnet. Als Nächstes wird jedes der verbleibenden Objekte dem nächstgelegenen Zentroid zugewiesen, wobei \"nächstgelegen\" über den euklidischen Abstand zwischen dem Objekt und dem Cluster-Mittelwert definiert ist. Dieser Schritt wird \"Clusterzuweisungsschritt\" genannt. Nach dem Zuweisungsschritt berechnet der Algorithmus den neuen Mittelwert eines jeden Clusters. Dieser Schritt wird mit dem Begriff Cluster-\"Zentrenaktualisierung\" bezeichnet. Nachdem nun die Zentren neu berechnet wurden, wird jede Beobachtung erneut daraufhin überprüft, ob sie möglicherweise näher an einem anderen Cluster liegt. Alle Objekte werden mit den aktualisierten Cluster-mittel neu zugeordnet. Die Schritte der Clusterzuordnung und der Zentroid-Aktualisierung werden iterativ wiederholt, bis sich die Clusterzuordnungen nicht mehr ändern (d. h. bis Konvergenz erreicht ist). Das heisst, die in der aktuellen Iteration gebildeten Cluster sind die gleichen wie die in der vorherigen Iteration erhaltenen. [5]\n",
        "\n",
        "Die Grundidee des k-means Clustering besteht darin, Cluster so zu definieren, dass die gesamte Intra-Cluster-Variation (bekannt als Gesamtvariation innerhalb von Clustern) minimiert wird. Es sind mehrere k-means-Algorithmen verfügbar. Der Standardalgorithmus ist der Hartigan-Wong-Algorithmus (1979), der die gesamte Variation innerhalb von Clustern als die Summe der quadrierten euklidischen Abstände zwischen Elementen und dem entsprechenden Zentroid definiert:\n",
        "* $W(C_k) = \\sum_{x_i \\in C_k}(x_i - \\mu_k)^2 $\n",
        "* $x_i$ ein Datenpunkt ist, der zum Cluster gehört $C_k$\n",
        "* $\\mu_k$ ist der Mittelwert der dem Cluster zugeordneten Punkte $C_k$\n",
        "\n",
        "Jede Beobachtung $x_i$ wird einem gegebenen Cluster so zugeordnet, dass die Summe der Quadrate (SS) des Abstands der Beobachtung zu ihren zugeordneten Clusterzentren $\\mu_k$ minimiert wird.\n",
        "\n",
        "Die gesamte Variation wird wie folgt innerhalb von Clustern definiert:\n",
        "\n",
        "Total der Quandratsummen = $\\sum^k_{k=1}W(C_k)$ = $\\sum^k_{k=1}$$\\sum_{x_i \\in C_k}(x_i - \\mu_k)^2$\n",
        "\n",
        "Total der Quadratsummen innerhalb von Clustern misst die Kompaktheit des Clusters und soll so klein wie möglich sein.\n",
        "\n",
        "Der K-means-Algorithmus lässt sich wie folgt zusammenfassen:\n",
        "\n",
        "1. Anzahl der zu erstellenden Cluster (K) angeben\n",
        "2. Auswählen eines zufällig k Objektes aus dem Datensatz als anfängliche Clusterzentren oder Mittelwerte\n",
        "3. Weist jede Beobachtung ihrem nächstgelegenen Zentroid zu, basierend auf dem euklidischen Abstand zwischen dem Objekt und dem Zentroid\n",
        "4. Aktualisieren für jeden der k Cluster den Clusterschwerpunkt, indem die neuen Mittelwerte aller Datenpunkte im Cluster berechnen. Der Zentroid eines K-ten Clusters ist ein Vektor der Länge p, der die Mittelwerte aller Variablen für die Beobachtungen im k-ten Cluster enthält; p ist die Anzahl der Variablen.\n",
        "5. Iterativ minimieren der Summe innerhalb der Quadratsumme. Das heisst, die Schritte 3 und 4 werden iteriert, bis sich die Clusterzuordnungen nicht mehr ändern oder die maximale Anzahl der Iterationen erreicht ist."
      ]
    },
    {
      "cell_type": "markdown",
      "id": "45f355f6",
      "metadata": {
        "id": "45f355f6"
      },
      "source": [
        "#### Clustering-Distanzmasse\n",
        "Die Klassifizierung von Beobachtungen in Clusters erfordert einige Methoden zur Berechnung des Abstands oder der (Un-)Ähnlichkeit\n",
        "zwischen jedem Paar von Beobachtungen.\n",
        "Das Ergebnis dieser Berechnung wird als Dissimilaritäts- oder Distanzmatrix bezeichnet.\n",
        "Es gibt viele Methoden zur Berechnung dieser Abstandsinformation.\n",
        "Die Wahl der Abstandsmasse ist ein kritischer Schritt bei der Clusterbildung.\n",
        "Sie definiert, wie die Ähnlichkeit zweier Elemente (x, y) berechnet wird, und beeinflusst die Form der Cluster.\n",
        "Die klassischen Methoden für Distanzmasse sind Euklidische und Manhattan-Distanzen, die wie folgt, definiert sind:\n",
        "\n",
        "***Euklidische Distanz:***\n",
        "\n",
        "$ d_{euc}(x,y) = \\sqrt{\\sum^n_{i=1}(x_i - y_i)^2}$\n",
        "\n",
        "***Manhattan Distanz***\n",
        "\n",
        "$d_{man}(x,y) = \\sum^n_{i=1}|(x_i - y_i)| $"
      ]
    },
    {
      "cell_type": "markdown",
      "id": "e282bf75",
      "metadata": {
        "id": "e282bf75"
      },
      "source": [
        "Nun möchten wir anhand der Untersuchung diesen K-Means Algoithmus answenden und damit meine Clusters berechnen. Doch wie kann ich diesen Algorithmus anwenden? Gibt es hier Libraries, welche ich verwenden kann?"
      ]
    },
    {
      "cell_type": "code",
      "execution_count": 24,
      "id": "8e965bc9",
      "metadata": {
        "id": "8e965bc9"
      },
      "outputs": [],
      "source": [
        "import requests\n",
        "from bs4 import BeautifulSoup # parsing HTML\n",
        "import re\n",
        "from sklearn.feature_extraction.text import TfidfVectorizer\n",
        "from sklearn.cluster import KMeans\n",
        "import numpy as np\n",
        "import pandas as pd\n",
        "from sklearn.cluster import KMeans\n",
        "import matplotlib.pyplot as plt\n",
        "from scipy.spatial.distance import cdist \n",
        "from sklearn.preprocessing import StandardScaler\n",
        "from sklearn.decomposition import PCA\n",
        "import sys\n",
        "import os\n",
        "from sklearn import preprocessing\n",
        "from scipy.sparse import csr_matrix\n",
        "\n",
        "%matplotlib inline"
      ]
    },
    {
      "cell_type": "markdown",
      "source": [
        "Ich habe mich für die Wikipediaseite \"Zurich Cantonal Bank\" entschieden."
      ],
      "metadata": {
        "id": "82SU0aiyHxBQ"
      },
      "id": "82SU0aiyHxBQ"
    },
    {
      "cell_type": "code",
      "execution_count": 25,
      "id": "895a53f2",
      "metadata": {
        "id": "895a53f2"
      },
      "outputs": [],
      "source": [
        "url = 'https://en.wikipedia.org/wiki/Zurich_Cantonal_Bank'\n",
        "    \n",
        "index = requests.get(url).text\n",
        "soup_index = BeautifulSoup(index, 'html.parser')\n",
        "# Find the links on the page\n",
        "dumps = [a['href'] for a in soup_index.find_all('a') if a.has_attr('href')]"
      ]
    },
    {
      "cell_type": "markdown",
      "source": [
        "## Ergebnisse"
      ],
      "metadata": {
        "id": "-Yib5Yqlpzq_"
      },
      "id": "-Yib5Yqlpzq_"
    },
    {
      "cell_type": "code",
      "execution_count": 27,
      "id": "417aa0ca",
      "metadata": {
        "colab": {
          "base_uri": "https://localhost:8080/"
        },
        "id": "417aa0ca",
        "outputId": "c266eec3-6445-4b90-e065-4af52f33fd39"
      },
      "outputs": [
        {
          "output_type": "stream",
          "name": "stdout",
          "text": [
            "['https://de.wikipedia.org/wiki/Z%C3%BCrcher_Kantonalbank', 'https://translate.google.com/translate?&u=https%3A%2F%2Fde.wikipedia.org%2Fwiki%2FZ%C3%BCrcher_Kantonalbank&sl=de&tl=en&prev=_t&hl=en', '/wiki/Template:Expand_German#Topics_and_categorization', '/wiki/Category:Articles_needing_translation_from_German_Wikipedia', '/wiki/Wikipedia:Copying_within_Wikipedia']\n",
            "*******************************************\n",
            "No links:  252\n",
            "*******************************************\n",
            "Number left after duplicates removed:  163\n"
          ]
        }
      ],
      "source": [
        "r = re.compile('.*wiki.*')\n",
        "data = list(filter(r.match, dumps)) # filter only wikipedia links\n",
        "df = list(dict.fromkeys(data)) # Remove duplicates\n",
        "print(df[:5])\n",
        "print('*******************************************')\n",
        "print('No links: ', len(dumps))\n",
        "print('*******************************************')\n",
        "print('Number left after duplicates removed: ', len(df))"
      ]
    },
    {
      "cell_type": "markdown",
      "id": "8d63377a",
      "metadata": {
        "id": "8d63377a"
      },
      "source": [
        "Hier sollten nur die ersten 50 Links verwendet werden."
      ]
    },
    {
      "cell_type": "markdown",
      "id": "d4e8f781",
      "metadata": {
        "id": "d4e8f781"
      },
      "source": [
        "Da k-means nur mit numerischen Werten umgehen kann, wird der TF-IDF Vektorisierer verwendet. \n",
        "\n",
        "Inverse Dokumenthäufigkeit. |D| ist die Gesamtzahl aller Dokumente, t ist der Begriff, und DF(t)\n",
        "ist die Anzahl aller Dokumente, die den Begriff enthalten. Je niedriger die Zahl ist, desto unbedeutender ist der Begriff,\n",
        "und je höher, desto mehr sollte ein Begriff in einer Abfrage für die Relevanzbewertung zählen."
      ]
    },
    {
      "cell_type": "code",
      "execution_count": 28,
      "id": "245628e5",
      "metadata": {
        "id": "245628e5"
      },
      "outputs": [],
      "source": [
        "vectorizer = TfidfVectorizer(stop_words='english')\n",
        "X = vectorizer.fit_transform(df[:50])"
      ]
    },
    {
      "cell_type": "markdown",
      "source": [
        "Nun wurden die ersten 50 vektorisiert"
      ],
      "metadata": {
        "id": "IdYwJ1YApIWk"
      },
      "id": "IdYwJ1YApIWk"
    },
    {
      "cell_type": "code",
      "execution_count": 29,
      "id": "348b269a",
      "metadata": {
        "id": "348b269a"
      },
      "outputs": [],
      "source": [
        "kmeans = KMeans(n_clusters=7, random_state=0).fit(X)"
      ]
    },
    {
      "cell_type": "code",
      "execution_count": 30,
      "id": "892b8bb5",
      "metadata": {
        "id": "892b8bb5"
      },
      "outputs": [],
      "source": [
        "np.set_printoptions(threshold=sys.maxsize)\n",
        "labels2=kmeans.labels_"
      ]
    },
    {
      "cell_type": "code",
      "execution_count": 55,
      "id": "8201d3d1",
      "metadata": {
        "id": "8201d3d1"
      },
      "outputs": [],
      "source": [
        "n_cluster = range(1, 20)"
      ]
    },
    {
      "cell_type": "code",
      "execution_count": 56,
      "id": "320ce803",
      "metadata": {
        "colab": {
          "base_uri": "https://localhost:8080/"
        },
        "id": "320ce803",
        "outputId": "d60f3a44-be71-4961-e925-6683507cae01"
      },
      "outputs": [
        {
          "output_type": "stream",
          "name": "stderr",
          "text": [
            "<ipython-input-56-a902d7f93c7c>:8: ConvergenceWarning: Number of distinct clusters (15) found smaller than n_clusters (16). Possibly due to duplicate points in X.\n",
            "  kmeanModel = KMeans(n_clusters=k).fit(X)\n",
            "<ipython-input-56-a902d7f93c7c>:8: ConvergenceWarning: Number of distinct clusters (15) found smaller than n_clusters (17). Possibly due to duplicate points in X.\n",
            "  kmeanModel = KMeans(n_clusters=k).fit(X)\n",
            "<ipython-input-56-a902d7f93c7c>:8: ConvergenceWarning: Number of distinct clusters (15) found smaller than n_clusters (18). Possibly due to duplicate points in X.\n",
            "  kmeanModel = KMeans(n_clusters=k).fit(X)\n"
          ]
        },
        {
          "output_type": "stream",
          "name": "stdout",
          "text": [
            "Inertias:  [20.77307756779657, 17.057411540762626, 14.812840877668815, 12.3119128714354, 10.971212048644148, 9.845926060862588, 8.48494733456426, 7.1020898176398655, 5.695579554092696, 4.2634454817041885, 2.803491274002224, 1.3976848939966064, 0.8314256801831346, 0.31672023472163846, 0.0, 0.0, 0.0, 0.0, 0.0]\n"
          ]
        },
        {
          "output_type": "stream",
          "name": "stderr",
          "text": [
            "<ipython-input-56-a902d7f93c7c>:8: ConvergenceWarning: Number of distinct clusters (15) found smaller than n_clusters (19). Possibly due to duplicate points in X.\n",
            "  kmeanModel = KMeans(n_clusters=k).fit(X)\n"
          ]
        }
      ],
      "source": [
        "inertias = [] \n",
        "\n",
        "K = range(1,20) \n",
        "\n",
        "  \n",
        "for k in K: \n",
        "    #Aufbau und Anpassung des Modells nd fitting the model \n",
        "    kmeanModel = KMeans(n_clusters=k).fit(X) \n",
        "    inertias.append(kmeanModel.inertia_)\n",
        "\n",
        "print (\"Inertias: \",inertias)"
      ]
    },
    {
      "cell_type": "code",
      "execution_count": 58,
      "id": "8e9c45c6",
      "metadata": {
        "colab": {
          "base_uri": "https://localhost:8080/",
          "height": 295
        },
        "id": "8e9c45c6",
        "outputId": "4d9ce0f6-417f-473b-ac39-2ac3da6901d3"
      },
      "outputs": [
        {
          "output_type": "display_data",
          "data": {
            "text/plain": [
              "<Figure size 432x288 with 1 Axes>"
            ],
            "image/png": "[encoded data removed]"
          },
          "metadata": {
            "needs_background": "light"
          }
        }
      ],
      "source": [
        "plt.plot(K, inertias, 'bx-') \n",
        "plt.xlabel('Anzahl Clusters') \n",
        "plt.ylabel('Inertia') \n",
        "plt.title('Die Elbow Method mit Inertia') \n",
        "plt.show() "
      ]
    },
    {
      "cell_type": "markdown",
      "id": "88c0bccc",
      "metadata": {
        "id": "88c0bccc"
      },
      "source": [
        "Hier erkennt man gut, dass man somit zwischen 12 und 13 Clusters gebraucht. Ab dem 15 ändert nichts mehr gross.\n",
        "Nun zur Hauptkomponentenanalyse, welche ein mathematisches Verfahren ist und zur Dimensionalitätsreduktion führt.\n",
        "Das Ziel ist es, die Anzahl der Merkmale zu reduzieren, während der Grossteil der ursprünglichen Informationen erhalten bleibt.\n",
        "Nun werde ich alle Daten mittels PCA zur Visualisierung der Cluster transformieren."
      ]
    },
    {
      "cell_type": "code",
      "execution_count": 61,
      "id": "b31207cd",
      "metadata": {
        "colab": {
          "base_uri": "https://localhost:8080/",
          "height": 453
        },
        "id": "b31207cd",
        "outputId": "10663a25-58ae-42aa-8e75-ba85328c47bb"
      },
      "outputs": [
        {
          "output_type": "stream",
          "name": "stderr",
          "text": [
            "<ipython-input-61-81ea72f23483>:1: ConvergenceWarning: Number of distinct clusters (15) found smaller than n_clusters (16). Possibly due to duplicate points in X.\n",
            "  kmeans = [KMeans(n_clusters=i).fit(X) for i in n_cluster]\n",
            "<ipython-input-61-81ea72f23483>:1: ConvergenceWarning: Number of distinct clusters (15) found smaller than n_clusters (17). Possibly due to duplicate points in X.\n",
            "  kmeans = [KMeans(n_clusters=i).fit(X) for i in n_cluster]\n",
            "<ipython-input-61-81ea72f23483>:1: ConvergenceWarning: Number of distinct clusters (15) found smaller than n_clusters (18). Possibly due to duplicate points in X.\n",
            "  kmeans = [KMeans(n_clusters=i).fit(X) for i in n_cluster]\n"
          ]
        },
        {
          "output_type": "stream",
          "name": "stdout",
          "text": [
            "Recommended number of clusters:  13\n"
          ]
        },
        {
          "output_type": "stream",
          "name": "stderr",
          "text": [
            "<ipython-input-61-81ea72f23483>:1: ConvergenceWarning: Number of distinct clusters (15) found smaller than n_clusters (19). Possibly due to duplicate points in X.\n",
            "  kmeans = [KMeans(n_clusters=i).fit(X) for i in n_cluster]\n"
          ]
        },
        {
          "output_type": "execute_result",
          "data": {
            "text/plain": [
              "Text(0, 0.5, 'n')"
            ]
          },
          "metadata": {},
          "execution_count": 61
        },
        {
          "output_type": "display_data",
          "data": {
            "text/plain": [
              "<Figure size 576x288 with 1 Axes>"
            ],
            "image/png": "[encoded data removed]"
          },
          "metadata": {
            "needs_background": "light"
          }
        }
      ],
      "source": [
        "kmeans = [KMeans(n_clusters=i).fit(X) for i in n_cluster]\n",
        "\n",
        "scores = [kmeans[i].score(X) for i in range(len(kmeans))]\n",
        "scores = np.array(scores)\n",
        "dif_scores = scores / scores[0]\n",
        "dif_scores = np.diff(dif_scores)\n",
        "n_clusters = np.argwhere(dif_scores < np.quantile(dif_scores, 0.9))[-1][0]\n",
        "print(\"Recommended number of clusters: \", n_clusters)\n",
        "fig = plt.figure(figsize=(8, 4))\n",
        "plt.plot(scores)\n",
        "plt.xticks(n_cluster)\n",
        "plt.xlabel(\"Number of Clusters\")\n",
        "plt.ylabel(\"n\")"
      ]
    },
    {
      "cell_type": "code",
      "execution_count": 62,
      "id": "74567678",
      "metadata": {
        "colab": {
          "base_uri": "https://localhost:8080/"
        },
        "id": "74567678",
        "outputId": "db0f6698-2b77-49ef-fb08-8524597f1966"
      },
      "outputs": [
        {
          "output_type": "execute_result",
          "data": {
            "text/plain": [
              "KMeans(max_iter=100, n_clusters=12, n_init=1)"
            ]
          },
          "metadata": {},
          "execution_count": 62
        }
      ],
      "source": [
        "true_k = 12\n",
        "model = KMeans(n_clusters=true_k, init='k-means++', max_iter=100, n_init=1)\n",
        "model.fit(X)"
      ]
    },
    {
      "cell_type": "code",
      "execution_count": 63,
      "id": "ee9acc07",
      "metadata": {
        "colab": {
          "base_uri": "https://localhost:8080/"
        },
        "id": "ee9acc07",
        "outputId": "163c9f7c-026d-4106-b6ff-b6aeba5683c5"
      },
      "outputs": [
        {
          "output_type": "stream",
          "name": "stderr",
          "text": [
            "/usr/local/lib/python3.8/dist-packages/sklearn/utils/deprecation.py:87: FutureWarning: Function get_feature_names is deprecated; get_feature_names is deprecated in 1.0 and will be removed in 1.2. Please use get_feature_names_out instead.\n",
            "  warnings.warn(msg, category=FutureWarning)\n"
          ]
        }
      ],
      "source": [
        "order_centroids = model.cluster_centers_.argsort()[:, ::-1]\n",
        "terms = vectorizer.get_feature_names()"
      ]
    },
    {
      "cell_type": "code",
      "execution_count": 69,
      "id": "96c441b1",
      "metadata": {
        "colab": {
          "base_uri": "https://localhost:8080/"
        },
        "id": "96c441b1",
        "outputId": "ec6cb473-a87d-49bb-a5a1-4ce59a04c9c1"
      },
      "outputs": [
        {
          "output_type": "stream",
          "name": "stdout",
          "text": [
            "*********\n",
            "Cluster 0:\n",
            "*********\n",
            "Cluster 1:\n",
            "*********\n",
            "Cluster 2:\n",
            "*********\n",
            "Cluster 3:\n",
            "*********\n",
            "Cluster 4:\n",
            "*********\n",
            "Cluster 5:\n",
            "*********\n",
            "Cluster 6:\n",
            "*********\n",
            "Cluster 7:\n",
            "*********\n",
            "Cluster 8:\n",
            "*********\n",
            "Cluster 9:\n",
            "*********\n",
            "Cluster 10:\n",
            "*********\n",
            "Cluster 11:\n"
          ]
        }
      ],
      "source": [
        "for i in range(true_k):\n",
        "    print('*********')\n",
        "    print('Cluster %d:' % i)"
      ]
    },
    {
      "cell_type": "code",
      "execution_count": 70,
      "id": "2c6fcc99",
      "metadata": {
        "colab": {
          "base_uri": "https://localhost:8080/"
        },
        "id": "2c6fcc99",
        "outputId": "4d0c22cb-f247-46db-81a7-e7c8a69525ce"
      },
      "outputs": [
        {
          "output_type": "stream",
          "name": "stdout",
          "text": [
            "retail_banking\n",
            "wiki\n",
            "corporate_credit_ratings\n",
            "canton_of_zurich\n",
            "cantonal_bank\n",
            "cantonal_council_of_z\n",
            "category\n",
            "com\n",
            "commercial_banking\n",
            "commons\n",
            "copying_within_wikipedia\n",
            "credit_rating\n",
            "c3\n",
            "credit_suisse\n",
            "earnings_before_interest_and_taxes\n",
            "edit_summary\n",
            "en\n",
            "euro\n",
            "expand_german\n",
            "file\n"
          ]
        }
      ],
      "source": [
        "for ind in order_centroids[i, :20]:\n",
        "    print('%s' % terms[ind])"
      ]
    },
    {
      "cell_type": "code",
      "execution_count": 71,
      "id": "ad837552",
      "metadata": {
        "colab": {
          "base_uri": "https://localhost:8080/"
        },
        "id": "ad837552",
        "outputId": "ed194ffd-e0e7-438c-c985-c7f66b4003c6"
      },
      "outputs": [
        {
          "output_type": "stream",
          "name": "stdout",
          "text": [
            "[ 1 10  1  1  6  1  1  1  1  7  9  1  1  1  2  1  1  1  1  1  4  1  4  1\n",
            "  1  1  1  4  1  1  1  1  1  1  8  1  8  1  1  5 11  1  1  1  0  1  6  1\n",
            "  3  1]\n"
          ]
        }
      ],
      "source": [
        "base_url = 'https://en.wikipedia.org/wiki/Cantonal_bank'\n",
        "index = requests.get(base_url).text\n",
        "soup_index = BeautifulSoup(index, 'html.parser')\n",
        "# Find the links on the page\n",
        "dumps = [a['href'] for a in soup_index.find_all('a') if\n",
        "a.has_attr('href')]\n",
        "r = re.compile('.*wiki.*')\n",
        "data = list(filter(r.match, dumps)) # filter only wikipedia links\n",
        "df = list(dict.fromkeys(data)) # Remove duplicates\n",
        "dfr_new = df[:50]\n",
        "X = vectorizer.transform(dfr_new)\n",
        "predicted = model.predict(X)\n",
        "print(predicted)"
      ]
    },
    {
      "cell_type": "markdown",
      "source": [
        "Die Wikipediaseite \"Cantonal Bank\" gehört zum grösten Teil zu dem Cluster 1."
      ],
      "metadata": {
        "id": "XSTNo5nsIO56"
      },
      "id": "XSTNo5nsIO56"
    },
    {
      "cell_type": "markdown",
      "id": "694e113e",
      "metadata": {
        "id": "694e113e"
      },
      "source": [
        "## Lessons-Learned /Fazit\n",
        "\n",
        "\n"
      ]
    },
    {
      "cell_type": "markdown",
      "source": [],
      "metadata": {
        "id": "kd6SofZaDAb_"
      },
      "id": "kd6SofZaDAb_"
    },
    {
      "cell_type": "markdown",
      "id": "330768cb",
      "metadata": {
        "id": "330768cb"
      },
      "source": [
        "## Quellen\n",
        "* [1] Russell, M. and Klassen, M., 2018. Mining The Social Web, 3Rd Edition. 3rd ed. O'REILLY.\n",
        "* [2] Dr. Tim vor der Brück, Präsenation \"Bestimmung Anzahl optimaler Cluster in K-Means\", November 2022, FFHS Information Technology\n",
        "* [3] scikit-learn, https://scikit-learn.org/stable/, [online] verfügbar bei: <https://scikit-learn.org> [Zugriff 30.10.2022]\n",
        "* [4] Blog Data Science, https://data-science-blog.com/, [online] verfügbar bei: <https://data-science-blog.com/> [Zugriff 20.12.2022]\n",
        "* [5] UC Business Analytics R Programming Guide, https://uc-r.github.io/kmeans_clustering, [online] verfügbar bei: <https://uc-r.github.io/kmeans_clustering> [Zugriff: 20.12.2022]\n",
        "* [6] Towards Data Science k-means clustering, https://towardsdatascience.com/k-means-clustering-with-scikit-learn-6b47a369a83c, [online] verfügar bei: <https://towardsdatascience.com> [Zugriff 22.12.2022]\n",
        "* [7] Our world in data, https://ourworldindata.org/coronavirus-source-data, [online] verfügbar bei: <https://ourworldindata.org> [Zugriff: 26.12.2022]\n",
        "* [8] Data Science Central, https://www.datasciencecentral.com/profiles/blogs/fun-with-maps-part-1, [online] verfügbar bei: <https://www.datasciencecentral.com> [Zugriff:28.12.2022]\n",
        "* [9] folium, https://pypi.org/project/folium , [online] verfügbar bei: <https://pypi.org> [Zugriff: 28.12.2022]\n",
        "* [10] Towards Data Science Geocode, https://towardsdatascience.com/geocode-with-python-161ec1e62b89, [online] verfügbar bei: <https://towardsdatascience.com> [Zugriff: 18.12.2022]"
      ]
    },
    {
      "cell_type": "code",
      "execution_count": null,
      "id": "c65e32a6",
      "metadata": {
        "id": "c65e32a6"
      },
      "outputs": [],
      "source": []
    }
  ],
  "metadata": {
    "kernelspec": {
      "display_name": "Python 3 (ipykernel)",
      "language": "python",
      "name": "python3"
    },
    "language_info": {
      "codemirror_mode": {
        "name": "ipython",
        "version": 3
      },
      "file_extension": ".py",
      "mimetype": "text/x-python",
      "name": "python",
      "nbconvert_exporter": "python",
      "pygments_lexer": "ipython3",
      "version": "3.8.3"
    },
    "colab": {
      "provenance": [],
      "toc_visible": true
    }
  },
  "nbformat": 4,
  "nbformat_minor": 5
}
